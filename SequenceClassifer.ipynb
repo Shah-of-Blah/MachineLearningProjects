{
  "nbformat": 4,
  "nbformat_minor": 0,
  "metadata": {
    "colab": {
      "name": "SequenceClassifer.ipynb",
      "provenance": []
    },
    "kernelspec": {
      "name": "python3",
      "display_name": "Python 3"
    }
  },
  "cells": [
    {
      "cell_type": "markdown",
      "metadata": {
        "id": "e2Mzq-LvbAop",
        "colab_type": "text"
      },
      "source": [
        "## Sequence Classifier for IMDB data\n",
        "We will build a classifier for the imdb review data. It will use a recurrent neural network with an LSTM layer. We first import all the necessary libraries for the project."
      ]
    },
    {
      "cell_type": "code",
      "metadata": {
        "id": "a8nYOO2NbGpv",
        "colab_type": "code",
        "colab": {
          "base_uri": "https://localhost:8080/",
          "height": 34
        },
        "outputId": "03b47b1f-a991-4434-9bbb-e5219577b2c8"
      },
      "source": [
        "import numpy\n",
        "import pandas as pd\n",
        "import matplotlib.pyplot as plt\n",
        "from keras.datasets import imdb\n",
        "from keras.models import Sequential\n",
        "from keras.layers import Dense\n",
        "from keras.layers import LSTM\n",
        "from keras.layers.embeddings import Embedding\n",
        "from keras.preprocessing import sequence\n",
        "# fix random seed for reproducibility\n",
        "numpy.random.seed(7)"
      ],
      "execution_count": 1,
      "outputs": [
        {
          "output_type": "stream",
          "text": [
            "Using TensorFlow backend.\n"
          ],
          "name": "stderr"
        }
      ]
    },
    {
      "cell_type": "markdown",
      "metadata": {
        "id": "4asDx-dfbK7I",
        "colab_type": "text"
      },
      "source": [
        "The Keras library contains the imdb data set. We keep only the top 25000 used words."
      ]
    },
    {
      "cell_type": "code",
      "metadata": {
        "id": "p9BXP5l6bMy2",
        "colab_type": "code",
        "colab": {
          "base_uri": "https://localhost:8080/",
          "height": 51
        },
        "outputId": "83d0163b-c9d5-4933-dabf-2db8d91f0669"
      },
      "source": [
        "# load the dataset but only keep the top n words, zero the rest\n",
        "top_words = 25000\n",
        "(X_train, y_train), (X_test, y_test) = imdb.load_data(num_words=top_words)"
      ],
      "execution_count": 2,
      "outputs": [
        {
          "output_type": "stream",
          "text": [
            "Downloading data from https://s3.amazonaws.com/text-datasets/imdb.npz\n",
            "17465344/17464789 [==============================] - 1s 0us/step\n"
          ],
          "name": "stdout"
        }
      ]
    },
    {
      "cell_type": "markdown",
      "metadata": {
        "id": "9tJfhlmwbPNI",
        "colab_type": "text"
      },
      "source": [
        "Let's see what data we should keep. We build a histogram for review length."
      ]
    },
    {
      "cell_type": "code",
      "metadata": {
        "id": "vzfmSnHWbRlP",
        "colab_type": "code",
        "colab": {
          "base_uri": "https://localhost:8080/",
          "height": 295
        },
        "outputId": "694889d3-39fb-4ee4-ed14-6654599bcf2d"
      },
      "source": [
        "lengths=[]\n",
        "for i in range(len(X_train)):\n",
        "    lengths.append(len(X_train[i]))\n",
        "\n",
        "lengths = pd.Series(lengths)\n",
        "\n",
        "lengths.plot.hist(grid=True, bins=20, rwidth=.9,\n",
        "                   color='#607c8e')\n",
        "plt.title('Lenths of Reviews')\n",
        "plt.xlabel('Word Count')\n",
        "plt.ylabel('Reviews')\n",
        "plt.grid(axis='y', alpha=.4)"
      ],
      "execution_count": 3,
      "outputs": [
        {
          "output_type": "display_data",
          "data": {
            "image/png": "[encoded data removed]",
            "text/plain": [
              "<Figure size 432x288 with 1 Axes>"
            ]
          },
          "metadata": {
            "tags": []
          }
        }
      ]
    },
    {
      "cell_type": "markdown",
      "metadata": {
        "id": "M-lN_9QfbUhe",
        "colab_type": "text"
      },
      "source": [
        "We choose a review length of 500 since an overwhelming majority haver less than 500. We truncate the longer reveiws, and pad the shorter reviews. "
      ]
    },
    {
      "cell_type": "code",
      "metadata": {
        "id": "pRB1PMedbYJX",
        "colab_type": "code",
        "colab": {}
      },
      "source": [
        "# truncate and pad input sequences\n",
        "max_review_length = 500\n",
        "X_train = sequence.pad_sequences(X_train, maxlen=max_review_length)\n",
        "X_test = sequence.pad_sequences(X_test, maxlen=max_review_length)"
      ],
      "execution_count": 0,
      "outputs": []
    },
    {
      "cell_type": "markdown",
      "metadata": {
        "id": "juYG-lFkbarm",
        "colab_type": "text"
      },
      "source": [
        "Our model has a few layers. 1) We embedd the words into a 50-dimensional space. 2) An LSTM layer with 100 neurons 3) a dense layer to the output neurons."
      ]
    },
    {
      "cell_type": "code",
      "metadata": {
        "id": "RQ7hXBYcbdrd",
        "colab_type": "code",
        "colab": {
          "base_uri": "https://localhost:8080/",
          "height": 1000
        },
        "outputId": "25fb05d0-e98b-4257-9286-e8c455b0dfe8"
      },
      "source": [
        "# create the model\n",
        "embedding_vecor_length = 50\n",
        "model = Sequential()\n",
        "model.add(Embedding(top_words, embedding_vecor_length, input_length=max_review_length))\n",
        "model.add(LSTM(100))\n",
        "model.add(Dense(1, activation='sigmoid'))\n",
        "model.compile(loss='binary_crossentropy', optimizer='adam', metrics=['accuracy'])\n",
        "print(model.summary())\n",
        "model.fit(X_train, y_train, validation_data=(X_test, y_test), epochs=3, batch_size=64)"
      ],
      "execution_count": 5,
      "outputs": [
        {
          "output_type": "stream",
          "text": [
            "WARNING:tensorflow:From /usr/local/lib/python3.6/dist-packages/keras/backend/tensorflow_backend.py:66: The name tf.get_default_graph is deprecated. Please use tf.compat.v1.get_default_graph instead.\n",
            "\n",
            "WARNING:tensorflow:From /usr/local/lib/python3.6/dist-packages/keras/backend/tensorflow_backend.py:541: The name tf.placeholder is deprecated. Please use tf.compat.v1.placeholder instead.\n",
            "\n",
            "WARNING:tensorflow:From /usr/local/lib/python3.6/dist-packages/keras/backend/tensorflow_backend.py:4432: The name tf.random_uniform is deprecated. Please use tf.random.uniform instead.\n",
            "\n",
            "WARNING:tensorflow:From /usr/local/lib/python3.6/dist-packages/keras/optimizers.py:793: The name tf.train.Optimizer is deprecated. Please use tf.compat.v1.train.Optimizer instead.\n",
            "\n",
            "WARNING:tensorflow:From /usr/local/lib/python3.6/dist-packages/keras/backend/tensorflow_backend.py:3657: The name tf.log is deprecated. Please use tf.math.log instead.\n",
            "\n",
            "WARNING:tensorflow:From /usr/local/lib/python3.6/dist-packages/tensorflow/python/ops/nn_impl.py:180: add_dispatch_support.<locals>.wrapper (from tensorflow.python.ops.array_ops) is deprecated and will be removed in a future version.\n",
            "Instructions for updating:\n",
            "Use tf.where in 2.0, which has the same broadcast rule as np.where\n",
            "Model: \"sequential_1\"\n",
            "_________________________________________________________________\n",
            "Layer (type)                 Output Shape              Param #   \n",
            "=================================================================\n",
            "embedding_1 (Embedding)      (None, 500, 50)           1250000   \n",
            "_________________________________________________________________\n",
            "lstm_1 (LSTM)                (None, 100)               60400     \n",
            "_________________________________________________________________\n",
            "dense_1 (Dense)              (None, 1)                 101       \n",
            "=================================================================\n",
            "Total params: 1,310,501\n",
            "Trainable params: 1,310,501\n",
            "Non-trainable params: 0\n",
            "_________________________________________________________________\n",
            "None\n",
            "WARNING:tensorflow:From /usr/local/lib/python3.6/dist-packages/keras/backend/tensorflow_backend.py:1033: The name tf.assign_add is deprecated. Please use tf.compat.v1.assign_add instead.\n",
            "\n",
            "Train on 25000 samples, validate on 25000 samples\n",
            "Epoch 1/3\n",
            "25000/25000 [==============================] - 328s 13ms/step - loss: 0.4304 - acc: 0.7944 - val_loss: 0.6045 - val_acc: 0.6511\n",
            "Epoch 2/3\n",
            "25000/25000 [==============================] - 331s 13ms/step - loss: 0.3556 - acc: 0.8366 - val_loss: 0.3416 - val_acc: 0.8616\n",
            "Epoch 3/3\n",
            "25000/25000 [==============================] - 329s 13ms/step - loss: 0.1821 - acc: 0.9336 - val_loss: 0.3527 - val_acc: 0.8584\n"
          ],
          "name": "stdout"
        },
        {
          "output_type": "execute_result",
          "data": {
            "text/plain": [
              "<keras.callbacks.History at 0x7f6f24805a58>"
            ]
          },
          "metadata": {
            "tags": []
          },
          "execution_count": 5
        }
      ]
    },
    {
      "cell_type": "code",
      "metadata": {
        "id": "QsC2NosdbhPT",
        "colab_type": "code",
        "colab": {
          "base_uri": "https://localhost:8080/",
          "height": 34
        },
        "outputId": "85debf06-6b10-48f2-8dc6-a7b93c4940a0"
      },
      "source": [
        "# Final evaluation of the model\n",
        "scores = model.evaluate(X_test, y_test, verbose=0)\n",
        "print(\"Accuracy: %.2f%%\" % (scores[1]*100))"
      ],
      "execution_count": 6,
      "outputs": [
        {
          "output_type": "stream",
          "text": [
            "Accuracy: 85.84%\n"
          ],
          "name": "stdout"
        }
      ]
    }
  ]
}