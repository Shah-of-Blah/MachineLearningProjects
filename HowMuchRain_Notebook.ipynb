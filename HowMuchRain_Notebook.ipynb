{
 "cells": [
  {
   "cell_type": "code",
   "execution_count": 1,
   "metadata": {},
   "outputs": [],
   "source": [
    "import pandas as pd\n",
    "train = pd.read_csv('train.csv')"
   ]
  },
  {
   "cell_type": "code",
   "execution_count": 2,
   "metadata": {},
   "outputs": [
    {
     "data": {
      "text/plain": [
       "(13765201, 24)"
      ]
     },
     "execution_count": 2,
     "metadata": {},
     "output_type": "execute_result"
    }
   ],
   "source": [
    "import numpy as np\n",
    "train[train.columns[1:]] = train[train.columns[1:]].astype(np.float32)\n",
    "\n",
    "train.shape"
   ]
  },
  {
   "cell_type": "code",
   "execution_count": 3,
   "metadata": {},
   "outputs": [
    {
     "data": {
      "text/plain": [
       "(9125329, 24)"
      ]
     },
     "execution_count": 3,
     "metadata": {},
     "output_type": "execute_result"
    }
   ],
   "source": [
    "good_ids = set(train.loc[train['Ref'].notna(), 'Id'])\n",
    "train = train[train['Id'].isin(good_ids)]\n",
    "\n",
    "train.shape"
   ]
  },
  {
   "cell_type": "code",
   "execution_count": 4,
   "metadata": {},
   "outputs": [
    {
     "data": {
      "text/html": [
       "<div>\n",
       "<style scoped>\n",
       "    .dataframe tbody tr th:only-of-type {\n",
       "        vertical-align: middle;\n",
       "    }\n",
       "\n",
       "    .dataframe tbody tr th {\n",
       "        vertical-align: top;\n",
       "    }\n",
       "\n",
       "    .dataframe thead th {\n",
       "        text-align: right;\n",
       "    }\n",
       "</style>\n",
       "<table border=\"1\" class=\"dataframe\">\n",
       "  <thead>\n",
       "    <tr style=\"text-align: right;\">\n",
       "      <th></th>\n",
       "      <th>Id</th>\n",
       "      <th>minutes_past</th>\n",
       "      <th>radardist_km</th>\n",
       "      <th>Ref</th>\n",
       "      <th>Ref_5x5_10th</th>\n",
       "      <th>Ref_5x5_50th</th>\n",
       "      <th>Ref_5x5_90th</th>\n",
       "      <th>RefComposite</th>\n",
       "      <th>RefComposite_5x5_10th</th>\n",
       "      <th>RefComposite_5x5_50th</th>\n",
       "      <th>...</th>\n",
       "      <th>RhoHV_5x5_90th</th>\n",
       "      <th>Zdr</th>\n",
       "      <th>Zdr_5x5_10th</th>\n",
       "      <th>Zdr_5x5_50th</th>\n",
       "      <th>Zdr_5x5_90th</th>\n",
       "      <th>Kdp</th>\n",
       "      <th>Kdp_5x5_10th</th>\n",
       "      <th>Kdp_5x5_50th</th>\n",
       "      <th>Kdp_5x5_90th</th>\n",
       "      <th>Expected</th>\n",
       "    </tr>\n",
       "  </thead>\n",
       "  <tbody>\n",
       "    <tr>\n",
       "      <th>0</th>\n",
       "      <td>2</td>\n",
       "      <td>1.0</td>\n",
       "      <td>2.0</td>\n",
       "      <td>9.0</td>\n",
       "      <td>5.0</td>\n",
       "      <td>7.5</td>\n",
       "      <td>10.5</td>\n",
       "      <td>15.0</td>\n",
       "      <td>10.5</td>\n",
       "      <td>16.5</td>\n",
       "      <td>...</td>\n",
       "      <td>0.998333</td>\n",
       "      <td>0.3750</td>\n",
       "      <td>-0.1250</td>\n",
       "      <td>0.3125</td>\n",
       "      <td>0.8750</td>\n",
       "      <td>1.059998</td>\n",
       "      <td>-1.410004</td>\n",
       "      <td>-0.350006</td>\n",
       "      <td>1.059998</td>\n",
       "      <td>1.016001</td>\n",
       "    </tr>\n",
       "    <tr>\n",
       "      <th>1</th>\n",
       "      <td>2</td>\n",
       "      <td>6.0</td>\n",
       "      <td>2.0</td>\n",
       "      <td>26.5</td>\n",
       "      <td>22.5</td>\n",
       "      <td>25.5</td>\n",
       "      <td>31.5</td>\n",
       "      <td>26.5</td>\n",
       "      <td>26.5</td>\n",
       "      <td>28.5</td>\n",
       "      <td>...</td>\n",
       "      <td>1.005000</td>\n",
       "      <td>0.0625</td>\n",
       "      <td>-0.1875</td>\n",
       "      <td>0.2500</td>\n",
       "      <td>0.6875</td>\n",
       "      <td>0.000000</td>\n",
       "      <td>0.000000</td>\n",
       "      <td>0.000000</td>\n",
       "      <td>1.409988</td>\n",
       "      <td>1.016001</td>\n",
       "    </tr>\n",
       "    <tr>\n",
       "      <th>2</th>\n",
       "      <td>2</td>\n",
       "      <td>11.0</td>\n",
       "      <td>2.0</td>\n",
       "      <td>21.5</td>\n",
       "      <td>15.5</td>\n",
       "      <td>20.5</td>\n",
       "      <td>25.0</td>\n",
       "      <td>26.5</td>\n",
       "      <td>23.5</td>\n",
       "      <td>25.0</td>\n",
       "      <td>...</td>\n",
       "      <td>1.001667</td>\n",
       "      <td>0.3125</td>\n",
       "      <td>-0.0625</td>\n",
       "      <td>0.3125</td>\n",
       "      <td>0.6250</td>\n",
       "      <td>0.349991</td>\n",
       "      <td>0.000000</td>\n",
       "      <td>-0.350006</td>\n",
       "      <td>1.759995</td>\n",
       "      <td>1.016001</td>\n",
       "    </tr>\n",
       "    <tr>\n",
       "      <th>3</th>\n",
       "      <td>2</td>\n",
       "      <td>16.0</td>\n",
       "      <td>2.0</td>\n",
       "      <td>18.0</td>\n",
       "      <td>14.0</td>\n",
       "      <td>17.5</td>\n",
       "      <td>21.0</td>\n",
       "      <td>20.5</td>\n",
       "      <td>18.0</td>\n",
       "      <td>20.5</td>\n",
       "      <td>...</td>\n",
       "      <td>1.001667</td>\n",
       "      <td>0.2500</td>\n",
       "      <td>0.1250</td>\n",
       "      <td>0.3750</td>\n",
       "      <td>0.6875</td>\n",
       "      <td>0.349991</td>\n",
       "      <td>-1.059998</td>\n",
       "      <td>0.000000</td>\n",
       "      <td>1.059998</td>\n",
       "      <td>1.016001</td>\n",
       "    </tr>\n",
       "    <tr>\n",
       "      <th>4</th>\n",
       "      <td>2</td>\n",
       "      <td>21.0</td>\n",
       "      <td>2.0</td>\n",
       "      <td>24.5</td>\n",
       "      <td>16.5</td>\n",
       "      <td>21.0</td>\n",
       "      <td>24.5</td>\n",
       "      <td>24.5</td>\n",
       "      <td>21.0</td>\n",
       "      <td>24.0</td>\n",
       "      <td>...</td>\n",
       "      <td>0.998333</td>\n",
       "      <td>0.2500</td>\n",
       "      <td>0.0625</td>\n",
       "      <td>0.1875</td>\n",
       "      <td>0.5625</td>\n",
       "      <td>-0.350006</td>\n",
       "      <td>-1.059998</td>\n",
       "      <td>-0.350006</td>\n",
       "      <td>1.759995</td>\n",
       "      <td>1.016001</td>\n",
       "    </tr>\n",
       "  </tbody>\n",
       "</table>\n",
       "<p>5 rows × 24 columns</p>\n",
       "</div>"
      ],
      "text/plain": [
       "   Id  minutes_past  radardist_km   Ref  Ref_5x5_10th  Ref_5x5_50th  \\\n",
       "0   2           1.0           2.0   9.0           5.0           7.5   \n",
       "1   2           6.0           2.0  26.5          22.5          25.5   \n",
       "2   2          11.0           2.0  21.5          15.5          20.5   \n",
       "3   2          16.0           2.0  18.0          14.0          17.5   \n",
       "4   2          21.0           2.0  24.5          16.5          21.0   \n",
       "\n",
       "   Ref_5x5_90th  RefComposite  RefComposite_5x5_10th  RefComposite_5x5_50th  \\\n",
       "0          10.5          15.0                   10.5                   16.5   \n",
       "1          31.5          26.5                   26.5                   28.5   \n",
       "2          25.0          26.5                   23.5                   25.0   \n",
       "3          21.0          20.5                   18.0                   20.5   \n",
       "4          24.5          24.5                   21.0                   24.0   \n",
       "\n",
       "     ...     RhoHV_5x5_90th     Zdr  Zdr_5x5_10th  Zdr_5x5_50th  Zdr_5x5_90th  \\\n",
       "0    ...           0.998333  0.3750       -0.1250        0.3125        0.8750   \n",
       "1    ...           1.005000  0.0625       -0.1875        0.2500        0.6875   \n",
       "2    ...           1.001667  0.3125       -0.0625        0.3125        0.6250   \n",
       "3    ...           1.001667  0.2500        0.1250        0.3750        0.6875   \n",
       "4    ...           0.998333  0.2500        0.0625        0.1875        0.5625   \n",
       "\n",
       "        Kdp  Kdp_5x5_10th  Kdp_5x5_50th  Kdp_5x5_90th  Expected  \n",
       "0  1.059998     -1.410004     -0.350006      1.059998  1.016001  \n",
       "1  0.000000      0.000000      0.000000      1.409988  1.016001  \n",
       "2  0.349991      0.000000     -0.350006      1.759995  1.016001  \n",
       "3  0.349991     -1.059998      0.000000      1.059998  1.016001  \n",
       "4 -0.350006     -1.059998     -0.350006      1.759995  1.016001  \n",
       "\n",
       "[5 rows x 24 columns]"
      ]
     },
     "execution_count": 4,
     "metadata": {},
     "output_type": "execute_result"
    }
   ],
   "source": [
    "train.fillna(0.0, inplace=True)\n",
    "train.reset_index(drop=True, inplace=True)\n",
    "train.head()"
   ]
  },
  {
   "cell_type": "code",
   "execution_count": 5,
   "metadata": {},
   "outputs": [
    {
     "data": {
      "text/plain": [
       "(8931892, 24)"
      ]
     },
     "execution_count": 5,
     "metadata": {},
     "output_type": "execute_result"
    }
   ],
   "source": [
    "THRESHOLD = 80\n",
    "train = train[train['Expected'] <THRESHOLD]\n",
    "\n",
    "train['Expected'].plot.hist(bins=450, alpha=0.5)\n",
    "\n",
    "train.shape"
   ]
  },
  {
   "cell_type": "code",
   "execution_count": 7,
   "metadata": {},
   "outputs": [
    {
     "data": {
      "text/plain": [
       "((715302, 19, 22), (715302,))"
      ]
     },
     "execution_count": 7,
     "metadata": {},
     "output_type": "execute_result"
    }
   ],
   "source": [
    "train_groups = train.groupby(\"Id\")\n",
    "train_size = len(train_groups)\n",
    "\n",
    "MAX_SEQ_LENGTH = train_groups.size().max()\n",
    "N_FEATURES = 22\n",
    "\n",
    "X_train = np.zeros((train_size, MAX_SEQ_LENGTH, N_FEATURES), dtype=np.float32)\n",
    "y_train = np.zeros(train_size, dtype=np.float32)\n",
    "\n",
    "i = 0\n",
    "for _, group in train_groups:\n",
    "    X = group.values\n",
    "    seq_len = X.shape[0]\n",
    "    X_train[i,:seq_len,:] = X[:,1:23]\n",
    "    y_train[i] = X[0,23]\n",
    "    i += 1\n",
    "    del X\n",
    "    \n",
    "del train_groups\n",
    "X_train.shape, y_train.shape"
   ]
  },
  {
   "cell_type": "markdown",
   "metadata": {},
   "source": [
    "##### Data Augmentation - Let's get triple the data set size, and lengthen MAS_SEQ_LENGTH by 5."
   ]
  },
  {
   "cell_type": "code",
   "execution_count": 8,
   "metadata": {},
   "outputs": [],
   "source": [
    "import random\n",
    "aug_X_train=[]\n",
    "for j in range(len(X_train)):\n",
    "    sam = X_train[j]\n",
    "    sam = sam.tolist()\n",
    "    for i in range(3):\n",
    "        a = random.sample(range(19),5)\n",
    "        a.sort()\n",
    "        aug_X_train.append(sam[0:a[0]] + [sam[a[0]]] + sam[a[0]:a[1]] + [sam[a[1]]] + sam[a[1]:a[2]] + [sam[a[2]]] + sam[a[2]:a[3]] + [sam[a[3]]] + sam[a[3]:a[4]] + [sam[a[4]]]+ sam[a[4]:len(sam)])"
   ]
  },
  {
   "cell_type": "code",
   "execution_count": 9,
   "metadata": {},
   "outputs": [],
   "source": [
    "aug_X_train = np.array(aug_X_train)"
   ]
  },
  {
   "cell_type": "code",
   "execution_count": 10,
   "metadata": {},
   "outputs": [
    {
     "data": {
      "text/plain": [
       "(2145906, 24, 22)"
      ]
     },
     "execution_count": 10,
     "metadata": {},
     "output_type": "execute_result"
    }
   ],
   "source": [
    "aug_X_train.shape"
   ]
  },
  {
   "cell_type": "code",
   "execution_count": 11,
   "metadata": {},
   "outputs": [],
   "source": [
    "aug_y_train=[]\n",
    "for i in range(len(y_train)):\n",
    "    aug_y_train.extend([y_train[i]]*3)\n",
    "    \n",
    "aug_y_train = np.array(aug_y_train)"
   ]
  },
  {
   "cell_type": "markdown",
   "metadata": {},
   "source": [
    "Test Set"
   ]
  },
  {
   "cell_type": "code",
   "execution_count": 15,
   "metadata": {},
   "outputs": [
    {
     "data": {
      "text/plain": [
       "(717625, 19, 22)"
      ]
     },
     "execution_count": 15,
     "metadata": {},
     "output_type": "execute_result"
    }
   ],
   "source": [
    "test = pd.read_csv(\"test.csv\")\n",
    "test[test.columns[1:]] = test[test.columns[1:]].astype(np.float32)\n",
    "test_ids = test['Id'].unique()\n",
    "\n",
    "# Convert all NaNs to zero\n",
    "test = test.fillna(0.0)\n",
    "test = test.reset_index(drop=True)\n",
    "\n",
    "test_groups = test.groupby(\"Id\")\n",
    "test_size = len(test_groups)\n",
    "\n",
    "MAX_SEQ_LENGTH = 19\n",
    "\n",
    "X_test = np.zeros((test_size, MAX_SEQ_LENGTH, N_FEATURES), dtype=np.float32)\n",
    "\n",
    "i = 0\n",
    "for _, group in test_groups:\n",
    "    X = group.values\n",
    "    seq_len = X.shape[0]\n",
    "    X_test[i,:seq_len,:] = X[:,1:23]\n",
    "    i += 1\n",
    "    del X\n",
    "    \n",
    "del test_groups\n",
    "X_test.shape"
   ]
  },
  {
   "cell_type": "code",
   "execution_count": 16,
   "metadata": {},
   "outputs": [
    {
     "name": "stdout",
     "output_type": "stream",
     "text": [
      "Model: \"model_3\"\n",
      "_________________________________________________________________\n",
      "Layer (type)                 Output Shape              Param #   \n",
      "=================================================================\n",
      "input_3 (InputLayer)         (None, 19, 22)            0         \n",
      "_________________________________________________________________\n",
      "dense_7 (Dense)              (None, 19, 16)            368       \n",
      "_________________________________________________________________\n",
      "bidirectional_3 (Bidirection (None, 19, 64)            12544     \n",
      "_________________________________________________________________\n",
      "time_distributed_3 (TimeDist (None, 19, 32)            2080      \n",
      "_________________________________________________________________\n",
      "bidirectional_4 (Bidirection (None, 19, 64)            16640     \n",
      "_________________________________________________________________\n",
      "time_distributed_4 (TimeDist (None, 19, 32)            2080      \n",
      "_________________________________________________________________\n",
      "average_pooling1d_3 (Average (None, 9, 32)             0         \n",
      "_________________________________________________________________\n",
      "flatten_3 (Flatten)          (None, 288)               0         \n",
      "_________________________________________________________________\n",
      "dropout_3 (Dropout)          (None, 288)               0         \n",
      "_________________________________________________________________\n",
      "dense_10 (Dense)             (None, 1)                 289       \n",
      "=================================================================\n",
      "Total params: 34,001\n",
      "Trainable params: 34,001\n",
      "Non-trainable params: 0\n",
      "_________________________________________________________________\n",
      "Train on 572241 samples, validate on 143061 samples\n",
      "Epoch 1/30\n",
      "572241/572241 [==============================] - 142s 249us/step - loss: 2.5570 - val_loss: 2.5628\n",
      "Epoch 2/30\n",
      "572241/572241 [==============================] - 120s 209us/step - loss: 2.4385 - val_loss: 2.5343\n",
      "Epoch 3/30\n",
      "572241/572241 [==============================] - 256s 447us/step - loss: 2.4194 - val_loss: 2.5764\n",
      "Epoch 4/30\n",
      "572241/572241 [==============================] - 127s 222us/step - loss: 2.4056 - val_loss: 2.5219\n",
      "Epoch 5/30\n",
      "572241/572241 [==============================] - 125s 218us/step - loss: 2.3964 - val_loss: 2.4996\n",
      "Epoch 6/30\n",
      "572241/572241 [==============================] - 121s 211us/step - loss: 2.3930 - val_loss: 2.5028\n",
      "Epoch 7/30\n",
      "572241/572241 [==============================] - 116s 203us/step - loss: 2.3876 - val_loss: 2.5332\n",
      "Epoch 8/30\n",
      "572241/572241 [==============================] - 116s 202us/step - loss: 2.3823 - val_loss: 2.4877\n",
      "Epoch 9/30\n",
      "572241/572241 [==============================] - 121s 211us/step - loss: 2.3785 - val_loss: 2.4859\n",
      "Epoch 10/30\n",
      "572241/572241 [==============================] - 117s 205us/step - loss: 2.3729 - val_loss: 2.4891\n",
      "Epoch 11/30\n",
      "572241/572241 [==============================] - 140s 245us/step - loss: 2.3706 - val_loss: 2.5062\n",
      "Epoch 12/30\n",
      "572241/572241 [==============================] - 136s 237us/step - loss: 2.3534 - val_loss: 2.4772\n",
      "Epoch 13/30\n",
      "572241/572241 [==============================] - 136s 238us/step - loss: 2.3501 - val_loss: 2.4782\n",
      "Epoch 14/30\n",
      "572241/572241 [==============================] - 136s 238us/step - loss: 2.3489 - val_loss: 2.4797\n",
      "Epoch 15/30\n",
      "572241/572241 [==============================] - 127s 221us/step - loss: 2.3481 - val_loss: 2.4781\n",
      "Epoch 16/30\n",
      "572241/572241 [==============================] - 137s 239us/step - loss: 2.3459 - val_loss: 2.4776\n",
      "Epoch 17/30\n",
      "572241/572241 [==============================] - 141s 246us/step - loss: 2.3446 - val_loss: 2.4774\n"
     ]
    },
    {
     "data": {
      "text/plain": [
       "<keras.callbacks.History at 0x123be6198>"
      ]
     },
     "execution_count": 16,
     "metadata": {},
     "output_type": "execute_result"
    }
   ],
   "source": [
    "from keras.layers import (\n",
    "    Input,\n",
    "    Dense,\n",
    "    LSTM,\n",
    "    AveragePooling1D,\n",
    "    TimeDistributed,\n",
    "    Flatten,\n",
    "    Bidirectional,\n",
    "    Dropout\n",
    ")\n",
    "from keras.models import Model\n",
    "\n",
    "from keras.callbacks import EarlyStopping, ReduceLROnPlateau\n",
    "early_stopping = EarlyStopping(monitor='val_loss', min_delta=0, patience=5)\n",
    "reduce_lr = ReduceLROnPlateau(monitor='val_loss', factor=0.1, patience=3, min_delta=0.01)\n",
    "\n",
    "BATCH_SIZE = 2028\n",
    "N_EPOCHS = 30\n",
    "\n",
    "def get_model_deep(shape=(19, 22)):\n",
    "    inp = Input(shape)\n",
    "    x = Dense(16)(inp)\n",
    "    x = Bidirectional(LSTM(32, return_sequences=True))(x)\n",
    "    x = TimeDistributed(Dense(32))(x)\n",
    "    x = Bidirectional(LSTM(32, return_sequences=True))(x)\n",
    "    x = TimeDistributed(Dense(32))(x)\n",
    "    x = AveragePooling1D()(x)\n",
    "    x = Flatten()(x)\n",
    "    x = Dropout(0.5)(x)\n",
    "    x = Dense(1)(x)\n",
    "\n",
    "    model = Model(inp, x)\n",
    "    return model\n",
    "\n",
    "model = get_model_deep((19,22))\n",
    "model.compile(optimizer='adam', loss='mae',)\n",
    "model.summary()\n",
    "\n",
    "model.fit(X_train, y_train, \n",
    "            batch_size=BATCH_SIZE, epochs=N_EPOCHS, \n",
    "            validation_split=0.2, callbacks=[early_stopping, reduce_lr])"
   ]
  },
  {
   "cell_type": "code",
   "execution_count": 17,
   "metadata": {},
   "outputs": [],
   "source": [
    "y_pred = model.predict(X_test, batch_size=BATCH_SIZE)\n",
    "submission = pd.DataFrame({'Id': test_ids, 'Expected': y_pred.reshape(-1)})\n",
    "submission.to_csv('submission.csv', index=False)"
   ]
  },
  {
   "cell_type": "code",
   "execution_count": null,
   "metadata": {},
   "outputs": [],
   "source": []
  },
  {
   "cell_type": "code",
   "execution_count": 18,
   "metadata": {},
   "outputs": [
    {
     "data": {
      "text/plain": [
       "(717625, 2)"
      ]
     },
     "execution_count": 18,
     "metadata": {},
     "output_type": "execute_result"
    }
   ],
   "source": [
    "submission.shape"
   ]
  },
  {
   "cell_type": "code",
   "execution_count": null,
   "metadata": {},
   "outputs": [],
   "source": []
  },
  {
   "cell_type": "code",
   "execution_count": null,
   "metadata": {},
   "outputs": [],
   "source": []
  }
 ],
 "metadata": {
  "kernelspec": {
   "display_name": "Python 3",
   "language": "python",
   "name": "python3"
  },
  "language_info": {
   "codemirror_mode": {
    "name": "ipython",
    "version": 3
   },
   "file_extension": ".py",
   "mimetype": "text/x-python",
   "name": "python",
   "nbconvert_exporter": "python",
   "pygments_lexer": "ipython3",
   "version": "3.7.1"
  }
 },
 "nbformat": 4,
 "nbformat_minor": 2
}
